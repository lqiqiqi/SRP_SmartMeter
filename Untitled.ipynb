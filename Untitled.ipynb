{
 "cells": [
  {
   "cell_type": "code",
   "execution_count": 1,
   "metadata": {
    "collapsed": true
   },
   "outputs": [],
   "source": [
    "import os\n",
    "\n",
    "def load_model(model):\n",
    "#     model_dir = os.path.join(save_dir, 'model_' + exp_name)\n",
    "#     model_name = model_dir + '/' + self.config.model_name + '_param.pkl'  # get final model\n",
    "    model_name = '../saving_model/model_59_train/scale10 mynet batchsize8_param.pkl/'\n",
    "    if os.path.exists(model_name):\n",
    "        state_dict = torch.load(model_name)\n",
    "        from collections import OrderedDict\n",
    "        new_state_dict = OrderedDict()\n",
    "        for k, v in state_dict.items():\n",
    "            namekey = k[7:]  # remove `module.`\n",
    "            new_state_dict[namekey] = v\n",
    "        model.load_state_dict(new_state_dict)"
   ]
  }
 ],
 "metadata": {
  "kernelspec": {
   "display_name": "Python 3",
   "language": "python",
   "name": "python3"
  },
  "language_info": {
   "codemirror_mode": {
    "name": "ipython",
    "version": 3
   },
   "file_extension": ".py",
   "mimetype": "text/x-python",
   "name": "python",
   "nbconvert_exporter": "python",
   "pygments_lexer": "ipython3",
   "version": "3.6.0"
  }
 },
 "nbformat": 4,
 "nbformat_minor": 2
}
